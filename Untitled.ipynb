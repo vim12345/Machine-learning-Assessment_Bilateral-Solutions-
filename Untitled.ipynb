{
 "cells": [
  {
   "cell_type": "markdown",
   "id": "2a1bb589-063e-46c0-bb48-f66d81973d0c",
   "metadata": {},
   "source": [
    " ### 1. Python Function to Aggregate Weather Data"
   ]
  },
  {
   "cell_type": "code",
   "execution_count": 1,
   "id": "0bd49495-dc6d-4777-865e-f6e40a26079b",
   "metadata": {},
   "outputs": [
    {
     "name": "stdout",
     "output_type": "stream",
     "text": [
      "{'New York': {'avg_temperature': 22.5, 'avg_humidity': 80.0}, 'Los Angeles': {'avg_temperature': 30.0, 'avg_humidity': 60.0}}\n"
     ]
    }
   ],
   "source": [
    "def aggregate_weather_data(records):\n",
    "    city_data = {}\n",
    "\n",
    "    for record in records:\n",
    "        city = record['city']\n",
    "        if city not in city_data:\n",
    "            city_data[city] = {'temp_sum': 0, 'humidity_sum': 0, 'temp_count': 0, 'humidity_count': 0}\n",
    "\n",
    "        if 'temperature' in record:\n",
    "            city_data[city]['temp_sum'] += record['temperature']\n",
    "            city_data[city]['temp_count'] += 1\n",
    "        \n",
    "        if 'humidity' in record:\n",
    "            city_data[city]['humidity_sum'] += record['humidity']\n",
    "            city_data[city]['humidity_count'] += 1\n",
    "\n",
    "    result = {}\n",
    "    for city, data in city_data.items():\n",
    "        avg_temp = data['temp_sum'] / data['temp_count'] if data['temp_count'] > 0 else None\n",
    "        avg_humidity = data['humidity_sum'] / data['humidity_count'] if data['humidity_count'] > 0 else None\n",
    "        result[city] = {'avg_temperature': avg_temp, 'avg_humidity': avg_humidity}\n",
    "\n",
    "    return result\n",
    "\n",
    "# Example usage:\n",
    "weather_records = [\n",
    "    {'city': 'New York', 'temperature': 25, 'humidity': 80},\n",
    "    {'city': 'New York', 'temperature': 20},\n",
    "    {'city': 'Los Angeles', 'humidity': 60},\n",
    "    {'city': 'Los Angeles', 'temperature': 30}\n",
    "]\n",
    "\n",
    "print(aggregate_weather_data(weather_records))"
   ]
  },
  {
   "cell_type": "markdown",
   "id": "8e9b3332-5045-44c9-b0c0-a8e5328719c5",
   "metadata": {},
   "source": [
    "This function aggregates temperature and humidity data for each city and calculates the average. Missing data is handled gracefully."
   ]
  },
  {
   "cell_type": "markdown",
   "id": "cd4430de-3da5-40af-8ce5-4b46efd9c6c4",
   "metadata": {},
   "source": [
    "### 2. Python Function for Prime Factorization"
   ]
  },
  {
   "cell_type": "code",
   "execution_count": 3,
   "id": "47150716-98dc-4e3f-ad19-c8a62fc21d8a",
   "metadata": {},
   "outputs": [
    {
     "name": "stdout",
     "output_type": "stream",
     "text": [
      "[(2, 2), (3, 1), (5, 1)]\n"
     ]
    }
   ],
   "source": [
    "def prime_factors(n):\n",
    "    factors = []\n",
    "    divisor = 2\n",
    "    while n > 1:\n",
    "        count = 0\n",
    "        while n % divisor == 0:\n",
    "            n //= divisor\n",
    "            count += 1\n",
    "        if count > 0:\n",
    "            factors.append((divisor, count))\n",
    "        divisor += 1\n",
    "    return factors\n",
    "print(prime_factors(60)) "
   ]
  },
  {
   "cell_type": "markdown",
   "id": "848ed032-61e2-4e5a-b328-3d8060d0954a",
   "metadata": {},
   "source": [
    "This function iterates through possible divisors and checks how many times the number is divisible, building the factor-exponent pairs."
   ]
  },
  {
   "cell_type": "markdown",
   "id": "078aa878-4c17-4a96-99af-df5d5de62e1c",
   "metadata": {},
   "source": [
    "### 3. SQL Query for Increasing Product Prices"
   ]
  },
  {
   "cell_type": "code",
   "execution_count": 7,
   "id": "586c879f-65bb-421f-8ee3-7dbb8b59c6bd",
   "metadata": {},
   "outputs": [
    {
     "name": "stdout",
     "output_type": "stream",
     "text": [
      "Product A: 110.00000000000001\n",
      "Product B: 165.0\n",
      "Product C: 220.00000000000003\n"
     ]
    }
   ],
   "source": [
    "import sqlite3\n",
    "\n",
    "# Connect to an in-memory SQLite database or your actual database\n",
    "conn = sqlite3.connect(':memory:')  # Use a file path for a persistent database\n",
    "cursor = conn.cursor()\n",
    "\n",
    "# Create a sample products table and insert some data\n",
    "cursor.execute('''\n",
    "CREATE TABLE products (\n",
    "    id INTEGER PRIMARY KEY,\n",
    "    name TEXT,\n",
    "    price REAL\n",
    ")\n",
    "''')\n",
    "\n",
    "# Insert sample data\n",
    "products = [\n",
    "    (1, 'Product A', 100.0),\n",
    "    (2, 'Product B', 150.0),\n",
    "    (3, 'Product C', 200.0)\n",
    "]\n",
    "cursor.executemany('INSERT INTO products (id, name, price) VALUES (?, ?, ?)', products)\n",
    "conn.commit()\n",
    "\n",
    "# SQL query to increase price by 10%\n",
    "cursor.execute('UPDATE products SET price = price * 1.10')\n",
    "conn.commit()\n",
    "\n",
    "# Fetch and display updated prices\n",
    "cursor.execute('SELECT name, price FROM products')\n",
    "updated_products = cursor.fetchall()\n",
    "\n",
    "for product in updated_products:\n",
    "    print(f'{product[0]}: {product[1]}')\n",
    "\n",
    "# Close the connection\n",
    "conn.close()"
   ]
  },
  {
   "cell_type": "code",
   "execution_count": null,
   "id": "8e4d0b85-4e6e-4fbd-836b-ff770bde08a8",
   "metadata": {},
   "outputs": [],
   "source": []
  }
 ],
 "metadata": {
  "kernelspec": {
   "display_name": "Python 3 (ipykernel)",
   "language": "python",
   "name": "python3"
  },
  "language_info": {
   "codemirror_mode": {
    "name": "ipython",
    "version": 3
   },
   "file_extension": ".py",
   "mimetype": "text/x-python",
   "name": "python",
   "nbconvert_exporter": "python",
   "pygments_lexer": "ipython3",
   "version": "3.12.4"
  }
 },
 "nbformat": 4,
 "nbformat_minor": 5
}
